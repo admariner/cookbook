{
 "cells": [
  {
   "cell_type": "markdown",
   "metadata": {},
   "source": [
    "# Reproduce codeml analysis from Yang Z (MBE, 1998) \n",
    "\n",
    "\n",
    "This recipe shows how to reproduce the analysis carried out in [Yang Z (MBE, 1998)](http://www.ncbi.nlm.nih.gov/pubmed/9580986) using `ete-evol`. The data files are extracted from the examples in the PAML package. \n",
    "\n",
    "## Requirements\n",
    "\n",
    "- ete3\n",
    "- ete3_external_tools\n"
   ]
  },
  {
   "cell_type": "markdown",
   "metadata": {},
   "source": [
    "# 1. Prepare data\n",
    "\n"
   ]
  }
 ],
 "metadata": {
  "kernelspec": {
   "display_name": "Python 2",
   "language": "python",
   "name": "python2"
  },
  "language_info": {
   "codemirror_mode": {
    "name": "ipython",
    "version": 2
   },
   "file_extension": ".py",
   "mimetype": "text/x-python",
   "name": "python",
   "nbconvert_exporter": "python",
   "pygments_lexer": "ipython2",
   "version": "2.7.11"
  }
 },
 "nbformat": 4,
 "nbformat_minor": 0
}
