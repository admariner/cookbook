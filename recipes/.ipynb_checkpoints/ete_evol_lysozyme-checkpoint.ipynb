{
 "cells": [
  {
   "cell_type": "markdown",
   "metadata": {},
   "source": [
    "# Reproduce codeml analysis from Yang Z (MBE, 1998) \n",
    "\n",
    "\n",
    "This recipe shows how to reproduce the analysis carried out in [Yang Z (MBE, 1998)](http://www.ncbi.nlm.nih.gov/pubmed/9580986) using `ete-evol`. The data files are extracted from the examples in the PAML package, small dataset will be used:\n",
    "\n",
    "<img src=\"data/lysozyme/Lysozyme_small_tree.png\">\n",
    "\n",
    "The files that we are going to use for this example are:\n",
    "* lysozymeSmall.txt\n",
    "* lysozymeSmall.trees\n",
    "* lysozymeSmall.ctl\n",
    "\n",
    "## Requirements\n",
    "\n",
    "- ete3\n",
    "- ete3_external_tools\n"
   ]
  },
  {
   "cell_type": "markdown",
   "metadata": {},
   "source": [
    "# 1. Run PAML example as is\n",
    "\n",
    "ete_evol tools allows to run directly CodeML using PAML configuration file.\n",
    "\n"
   ]
  },
  {
   "cell_type": "code",
   "execution_count": 37,
   "metadata": {
    "collapsed": false
   },
   "outputs": [
    {
     "name": "stdout",
     "output_type": "stream",
     "text": [
      "      seqfile = lysozymeSmall.txt\r\n",
      "     treefile = lysozymeSmall.trees\r\n",
      "      outfile = mlc\r\n",
      "\r\n",
      "        noisy = 9   * 0,1,2,3,9: how much rubbish on the screen\r\n",
      "      verbose = 1   * 1: detailed output, 0: concise output\r\n",
      "      runmode = 0   * 0: user tree;  1: semi-automatic;  2: automatic\r\n",
      "                    * 3: StepwiseAddition; (4,5):PerturbationNNI \r\n",
      "\r\n",
      "      seqtype = 1   * 1:codons; 2:AAs; 3:codons-->AAs\r\n",
      "    CodonFreq = 2   * 0:1/61 each, 1:F1X4, 2:F3X4, 3:codon table\r\n",
      "        clock = 0   * 0: no clock, unrooted tree, 1: clock, rooted tree\r\n",
      "        model = 2\r\n",
      "                    * models for codons:\r\n",
      "                        * 0:one, 1:b, 2:2 or more dN/dS ratios for branches\r\n",
      "\r\n",
      "      NSsites = 0   * dN/dS among sites. 0:no variation, 1:neutral, 2:positive\r\n",
      "        icode = 0   * 0:standard genetic code; 1:mammalian mt; 2-10:see below\r\n",
      "\r\n",
      "    fix_kappa = 0   * 1: kappa fixed, 0: kappa to be estimated\r\n",
      "        kappa = 2   * initial or fixed kappa\r\n",
      "    fix_omega = 0   * 1: omega or omega_1 fixed, 0: estimate \r\n",
      "        omega = 2   * initial or fixed omega, for codons or codon-transltd AAs\r\n",
      "\r\n",
      "    fix_alpha = 1   * 0: estimate gamma shape parameter; 1: fix it at alpha\r\n",
      "        alpha = .0  * initial or fixed alpha, 0:infinity (constant rate)\r\n",
      "       Malpha = 0   * different alphas for genes\r\n",
      "        ncatG = 4   * # of categories in the dG or AdG models of rates\r\n",
      "\r\n",
      "        getSE = 0   * 0: don't want them, 1: want S.E.s of estimates\r\n",
      " RateAncestor = 0   * (1/0): rates (alpha>0) or ancestral states (alpha=0)\r\n",
      "       method = 0   * 0: simultaneous; 1: one branch at a time\r\n",
      "\r\n",
      "\r\n",
      "* Specifications for duplicating results for the small data set in table 1\r\n",
      "* of Yang (1998 MBE 15:568-573).\r\n",
      "* see the tree file lysozyme.trees for specification of node (branch) labels\r\n"
     ]
    }
   ],
   "source": [
    "%%bash\n",
    "cat data/lysozyme/lysozymeSmall.ctl"
   ]
  },
  {
   "cell_type": "markdown",
   "metadata": {},
   "source": [
    "Running codeml from the ete_evol tool using this configuration file would be:"
   ]
  },
  {
   "cell_type": "code",
   "execution_count": 35,
   "metadata": {
    "collapsed": false
   },
   "outputs": [
    {
     "name": "stdout",
     "output_type": "stream",
     "text": [
      "\n",
      "RUNNING CODEML/SLR\n",
      "  - processing model XX.lysozymeSmall.ctl\n"
     ]
    }
   ],
   "source": [
    "%%bash\n",
    "ete3 evol --codeml_config_file data/lysozyme/lysozymeSmall.ctl"
   ]
  },
  {
   "cell_type": "markdown",
   "metadata": {},
   "source": [
    "This command will run codeml on the control file with the only difference that the output file will be replaced by an output folder where all PAML ouput files will be stored."
   ]
  },
  {
   "cell_type": "code",
   "execution_count": 36,
   "metadata": {
    "collapsed": false
   },
   "outputs": [
    {
     "name": "stdout",
     "output_type": "stream",
     "text": [
      "2NG.dN\n",
      "2NG.dS\n",
      "2NG.t\n",
      "4fold.nuc\n",
      "algn\n",
      "lnf\n",
      "out\n",
      "rst\n",
      "rst1\n",
      "rub\n",
      "tmp.ctl\n",
      "tree\n"
     ]
    }
   ],
   "source": [
    "%%bash\n",
    "ls data/lysozyme/mlc/XX.lysozymeSmall.ctl/"
   ]
  },
  {
   "cell_type": "markdown",
   "metadata": {},
   "source": [
    "Notice "
   ]
  }
 ],
 "metadata": {
  "kernelspec": {
   "display_name": "Python 2",
   "language": "python",
   "name": "python2"
  },
  "language_info": {
   "codemirror_mode": {
    "name": "ipython",
    "version": 2
   },
   "file_extension": ".py",
   "mimetype": "text/x-python",
   "name": "python",
   "nbconvert_exporter": "python",
   "pygments_lexer": "ipython2",
   "version": "2.7.11"
  }
 },
 "nbformat": 4,
 "nbformat_minor": 0
}
