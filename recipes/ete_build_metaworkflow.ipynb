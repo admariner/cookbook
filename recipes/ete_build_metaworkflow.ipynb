{
 "cells": [
  {
   "cell_type": "markdown",
   "metadata": {},
   "source": [
    "# Using ete-build multiple workflows at once\n",
    "\n",
    "This recipe shows how to exploit the potential of executing several phylogenetic workflows on the same dataset. I common use would be testing the result using different aligners, a different tree inference software or to check the effect of alignment trimming. \n",
    "\n",
    "ete-build permits to run multiple workflows at once, trying to optimize computations by reusing common tasks between  different workflow definitions. \n",
    "\n",
    "The following commands illustrate this feature by testing many aligners, with and without trimming. \n",
    "\n",
    "## Requirements\n",
    "\n",
    "- basic concepts about ete-build. Check the [getting_started_example](ete_build_basics.ipynb) if unsure.\n"
   ]
  },
  {
   "cell_type": "markdown",
   "metadata": {},
   "source": [
    "## 1.Get your sequences ready as a FASTA file \n",
    "\n",
    "We will use a toy example with 25 sequences."
   ]
  },
  {
   "cell_type": "code",
   "execution_count": 5,
   "metadata": {
    "collapsed": false
   },
   "outputs": [
    {
     "name": "stdout",
     "output_type": "stream",
     "text": [
      ">Phy003I7ZJ_CHICK\n",
      "TMSQFNFSSAPAGGGFSFSTPKTAASTTAATGFSFTPAPSSGFTFGGAAPTPASSQPVTP\n",
      "FSFSTPASSALPTAFSFGTPATATTAAPAASVFPLGGNAPKLNFGGTSTTQATGITGGFG\n",
      "FGTSAPTSVPSSQAAAPSGFMFGTAATTTTTTTAAQPGTTGGFTFSSGTTTQAGTTGFNI\n",
      "GATSTAAPQAVPTGLTFGAAPAAAATTTASLGSTTQPAATPFSLGGQSSATLTASTSQGP\n",
      "TLSFGSKLGVTTTASTTTAASTAPLLGSTGPVLFASIASSSAPASSTSTGLSLGAPSTGT\n",
      "TGLGTSGFGLKPPGTTAAATSTATSTSASSFALNLKPLTTTGTIGAVTSTAAITTTTPSA\n",
      "PPVMTYAQLESLINKWSLELEDQEKHFLHQATQVNAWDRTLIENGEKITSLHREVEKVKL\n",
      "DQKRLDQELDFILSQQKELEDLLTPLEESVKEQSGTIYLQHADEERERTYKLAENIDAQL\n",
      "KRMAQDLKDIIEHLNTSGRPADTSDPLQQICKILNAHMDSLQWIDQNSALLQRKVEEVTK\n",
      "VCESRRKEQERSFRITFD\n",
      ">Phy0054BO3_MELGA\n",
      "GNAPKLNFGGTSTTQATGITGGFGFGTSAPTSVPSSQAAAPSGFMFGSATATTTTTTAAQ\n",
      "PGTTGGFTFSSGTTTQAGTTGFNIGTTSTAAPQAAPTGLTFGAAPAAAAATTTASLGSTA\n"
     ]
    }
   ],
   "source": [
    "%%bash\n",
    "wget http://etetoolkit.org/static/data/NUP62.aa.fa 2>/dev/null\n",
    "head NUP62.aa.fa -n14"
   ]
  },
  {
   "cell_type": "markdown",
   "metadata": {},
   "source": [
    "## 2. Check available aligners in ete3"
   ]
  },
  {
   "cell_type": "code",
   "execution_count": 25,
   "metadata": {
    "collapsed": false
   },
   "outputs": [
    {
     "name": "stdout",
     "output_type": "stream",
     "text": [
      "------------------------------------------\n",
      "              tree builders               \n",
      "------------------------------------------\n",
      "name                    | app type | desc.\n",
      "======================= | ======== | =====\n",
      "bionj_default           | phyml    |      \n",
      "fasttree_default        | fasttree |      \n",
      "fasttree_full           | fasttree |      \n",
      "phyml_default           | phyml    |      \n",
      "phyml_default_bootstrap | phyml    |      \n",
      "raxml_default           | raxml    |      \n",
      "raxml_default_bootstrap | raxml    |      \n",
      "treebest_ensembl        | phyml    |      \n",
      "\n",
      "---------------------------------------\n",
      "                aligners               \n",
      "---------------------------------------\n",
      "name               | app type   | desc.\n",
      "================== | ========== | =====\n",
      "metaligner_all     | metaligner |      \n",
      "metaligner_trimmed | metaligner |      \n",
      "metaligner_soft    | metaligner |      \n",
      "metaligner_default | metaligner |      \n",
      "tcoffee_default    | tcoffee    |      \n",
      "mcoffee_ensembl    | tcoffee    |      \n",
      "muscle_default     | muscle     |      \n",
      "mafft_default      | mafft      |      \n",
      "mafft_einsi        | mafft      |      \n",
      "mafft_linsi        | mafft      |      \n",
      "mafft_ginsi        | mafft      |      \n",
      "clustalo_default   | clustalo   |      \n",
      "\n",
      "------------------------------------------------------------------------------------------\n",
      "                                      COG selectors                                       \n",
      "------------------------------------------------------------------------------------------\n",
      "name          | app type    | desc.                                                       \n",
      "============= | =========== | ============================================================\n",
      "brh_cog_dummy | cogselector | Only 4 genes are selected. Just for testing purposes        \n",
      "brh_cog_all   | cogselector | all clusters of orthologous groups (COGs) will be used      \n",
      "brh_cog_100   | cogselector | only COGs including 100% of the target species will be used \n",
      "brh_cog_95    | cogselector | all COGs including at least 95% of the target species will b\n",
      "              |             | e used                                                      \n",
      "brh_cog_90    | cogselector | all COGs including at least 90% of the target species will b\n",
      "              |             | e used                                                      \n",
      "brh_cog_85    | cogselector | all COGs including at least 85% of the target species will b\n",
      "              |             | e used                                                      \n",
      "\n",
      "--------------------------------------\n",
      "          alg concatenators           \n",
      "--------------------------------------\n",
      "name               | app type  | desc.\n",
      "================== | ========= | =====\n",
      "alg_concat_default | concatalg |      \n",
      "\n",
      "-----------------------------------------------------------------------------------------------------\n",
      "                                            model testers                                            \n",
      "-----------------------------------------------------------------------------------------------------\n",
      "name                      | app type   | desc.                                                       \n",
      "========================= | ========== | ============================================================\n",
      "prottest_default          | prottest   |                                                             \n",
      "pmodeltest_full_ultrafast | pmodeltest | Test all models using NJ tree inference and skipping gamma, \n",
      "                          |            | invariant sites, and frequency site checks                  \n",
      "pmodeltest_full_fast      | pmodeltest | Test all models using NJ tree inference                     \n",
      "pmodeltest_full_slow      | pmodeltest | Test all models using ML tree inference                     \n",
      "pmodeltest_soft_ultrafast | pmodeltest |                                                             \n",
      "pmodeltest_soft_fast      | pmodeltest |                                                             \n",
      "pmodeltest_soft_slow      | pmodeltest |                                                             \n",
      "\n",
      "----------------------------------\n",
      "           alg cleaners           \n",
      "----------------------------------\n",
      "name            | app type | desc.\n",
      "=============== | ======== | =====\n",
      "trimal01        | trimal   |      \n",
      "trimal02        | trimal   |      \n",
      "trimal03        | trimal   |      \n",
      "trimal_gappyout | trimal   |      \n",
      "\n"
     ]
    }
   ],
   "source": [
    "%%bash \n",
    "ete3 build apps\n"
   ]
  }
 ],
 "metadata": {
  "kernelspec": {
   "display_name": "Python 2",
   "language": "python",
   "name": "python2"
  },
  "language_info": {
   "codemirror_mode": {
    "name": "ipython",
    "version": 2
   },
   "file_extension": ".py",
   "mimetype": "text/x-python",
   "name": "python",
   "nbconvert_exporter": "python",
   "pygments_lexer": "ipython2",
   "version": "2.7.11"
  }
 },
 "nbformat": 4,
 "nbformat_minor": 0
}
