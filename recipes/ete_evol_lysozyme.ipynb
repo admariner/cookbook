{
 "cells": [
  {
   "cell_type": "markdown",
   "metadata": {},
   "source": [
    "# Reproduce codeml analysis from Yang Z (MBE, 1998) \n",
    "\n",
    "\n",
    "This recipe shows how to reproduce the analysis carried out in [Yang Z (MBE, 1998)](http://www.ncbi.nlm.nih.gov/pubmed/9580986) using `ete-evol`. The data files are extracted from the examples in the PAML package, small dataset will be used:\n",
    "\n",
    "<img src=\"data/lysozyme/Lysozyme_small_tree.png\">\n",
    "\n",
    "The files that we are going to use for this example are:\n",
    "* data/lysozyme/lysozymeSmall.txt\n",
    "* data/lysozyme/lysozymeSmall.trees\n",
    "* data/lysozyme/lysozymeSmall.ctl\n",
    "\n",
    "## Requirements\n",
    "\n",
    "- ete3\n",
    "- ete3_external_tools\n"
   ]
  },
  {
   "cell_type": "markdown",
   "metadata": {},
   "source": [
    "# 1. Run PAML example as is\n",
    "\n",
    "ete_evol tools allows to run directly CodeML using PAML configuration file.\n",
    "\n"
   ]
  },
  {
   "cell_type": "code",
   "execution_count": 37,
   "metadata": {
    "collapsed": false
   },
   "outputs": [
    {
     "name": "stdout",
     "output_type": "stream",
     "text": [
      "      seqfile = lysozymeSmall.txt\r\n",
      "     treefile = lysozymeSmall.trees\r\n",
      "      outfile = mlc\r\n",
      "\r\n",
      "        noisy = 9   * 0,1,2,3,9: how much rubbish on the screen\r\n",
      "      verbose = 1   * 1: detailed output, 0: concise output\r\n",
      "      runmode = 0   * 0: user tree;  1: semi-automatic;  2: automatic\r\n",
      "                    * 3: StepwiseAddition; (4,5):PerturbationNNI \r\n",
      "\r\n",
      "      seqtype = 1   * 1:codons; 2:AAs; 3:codons-->AAs\r\n",
      "    CodonFreq = 2   * 0:1/61 each, 1:F1X4, 2:F3X4, 3:codon table\r\n",
      "        clock = 0   * 0: no clock, unrooted tree, 1: clock, rooted tree\r\n",
      "        model = 2\r\n",
      "                    * models for codons:\r\n",
      "                        * 0:one, 1:b, 2:2 or more dN/dS ratios for branches\r\n",
      "\r\n",
      "      NSsites = 0   * dN/dS among sites. 0:no variation, 1:neutral, 2:positive\r\n",
      "        icode = 0   * 0:standard genetic code; 1:mammalian mt; 2-10:see below\r\n",
      "\r\n",
      "    fix_kappa = 0   * 1: kappa fixed, 0: kappa to be estimated\r\n",
      "        kappa = 2   * initial or fixed kappa\r\n",
      "    fix_omega = 0   * 1: omega or omega_1 fixed, 0: estimate \r\n",
      "        omega = 2   * initial or fixed omega, for codons or codon-transltd AAs\r\n",
      "\r\n",
      "    fix_alpha = 1   * 0: estimate gamma shape parameter; 1: fix it at alpha\r\n",
      "        alpha = .0  * initial or fixed alpha, 0:infinity (constant rate)\r\n",
      "       Malpha = 0   * different alphas for genes\r\n",
      "        ncatG = 4   * # of categories in the dG or AdG models of rates\r\n",
      "\r\n",
      "        getSE = 0   * 0: don't want them, 1: want S.E.s of estimates\r\n",
      " RateAncestor = 0   * (1/0): rates (alpha>0) or ancestral states (alpha=0)\r\n",
      "       method = 0   * 0: simultaneous; 1: one branch at a time\r\n",
      "\r\n",
      "\r\n",
      "* Specifications for duplicating results for the small data set in table 1\r\n",
      "* of Yang (1998 MBE 15:568-573).\r\n",
      "* see the tree file lysozyme.trees for specification of node (branch) labels\r\n"
     ]
    }
   ],
   "source": [
    "%%bash\n",
    "cat data/lysozyme/lysozymeSmall.ctl"
   ]
  },
  {
   "cell_type": "markdown",
   "metadata": {},
   "source": [
    "The configuration file above corresponds to a branch model where marked branches are allowed to evolve at different $\\omega$ rate than non-marked branches. In this example from PAML, the branch marked is the branch *c* (the ancestor of Angolan colobus and Douc langur). See the tree in the PAML example:"
   ]
  },
  {
   "cell_type": "code",
   "execution_count": 1,
   "metadata": {
    "collapsed": false
   },
   "outputs": [
    {
     "name": "stdout",
     "output_type": "stream",
     "text": [
      "    1\r\n",
      "\r\n",
      "\r\n",
      "((Hsa_Human, Hla_gibbon),((Cgu/Can_colobus, Pne_langur) '#1', Mmu_rhesus), (Ssc_squirrelM, Cja_marmoset)); / * table 1B&F */\r\n",
      "\r\n",
      "\r\n",
      "// end of file\r\n",
      "\r\n",
      "\r\n",
      "\r\n"
     ]
    }
   ],
   "source": [
    "%%bash\n",
    "head data/lysozyme/lysozymeSmall.trees"
   ]
  },
  {
   "cell_type": "markdown",
   "metadata": {},
   "source": [
    "Running codeml from the ete_evol tool using this configuration file would be:"
   ]
  },
  {
   "cell_type": "code",
   "execution_count": 3,
   "metadata": {
    "collapsed": false
   },
   "outputs": [
    {
     "name": "stdout",
     "output_type": "stream",
     "text": [
      "\n",
      "RUNNING CODEML/SLR\n",
      "  - processing model XX.lysozymeSmall.ctl\n"
     ]
    }
   ],
   "source": [
    "%%bash\n",
    "ete3 evol --codeml_config_file data/lysozyme/lysozymeSmall.ctl"
   ]
  },
  {
   "cell_type": "markdown",
   "metadata": {},
   "source": [
    "This command will run codeml on the control file with the only difference that the output file will be replaced by an output folder where all PAML ouput files will be stored."
   ]
  },
  {
   "cell_type": "code",
   "execution_count": 36,
   "metadata": {
    "collapsed": false
   },
   "outputs": [
    {
     "name": "stdout",
     "output_type": "stream",
     "text": [
      "2NG.dN\n",
      "2NG.dS\n",
      "2NG.t\n",
      "4fold.nuc\n",
      "algn\n",
      "lnf\n",
      "out\n",
      "rst\n",
      "rst1\n",
      "rub\n",
      "tmp.ctl\n",
      "tree\n"
     ]
    }
   ],
   "source": [
    "%%bash\n",
    "ls data/lysozyme/mlc/XX.lysozymeSmall.ctl/"
   ]
  },
  {
   "cell_type": "markdown",
   "metadata": {},
   "source": [
    "Notice that an extra folder called `XX.lysozymeSmall.ctl` is created in order to allow one extra layer of organization if several control files have the same \"outfile\"."
   ]
  },
  {
   "cell_type": "markdown",
   "metadata": {},
   "source": [
    "At the end of the main codeML output file we can see the result of the optimized branch model with a foreground $\\omega$ of 3.5 and a background $\\omega$ of 0.7"
   ]
  },
  {
   "cell_type": "code",
   "execution_count": 43,
   "metadata": {
    "collapsed": false
   },
   "outputs": [
    {
     "name": "stdout",
     "output_type": "stream",
     "text": [
      "w ratios as labels for TreeView:\n",
      "((Hsa_Human #0.6858 , Hla_gibbon #0.6858 ) #0.6858 , ((Cgu/Can_colobus #0.6858 , Pne_langur #0.6858 ) #3.5057 , Mmu_rhesus #0.6858 ) #0.6858 , (Ssc_squirrelM #0.6858 , Cja_marmoset #0.6858 ) #0.6858 );\n",
      "\n",
      "\n",
      "Time used:  0:04\n"
     ]
    }
   ],
   "source": [
    "%%bash\n",
    "tail -n 5 data/lysozyme/mlc/XX.lysozymeSmall.ctl/out"
   ]
  },
  {
   "cell_type": "markdown",
   "metadata": {
    "collapsed": true
   },
   "source": [
    "On top of this, the ete_evol tool will generate a summary image \n",
    "<img src=\"data/lysozyme/mlc/tree_None.png\">"
   ]
  },
  {
   "cell_type": "markdown",
   "metadata": {},
   "source": [
    "Image which can be called interactively using the `--view` flag:"
   ]
  },
  {
   "cell_type": "code",
   "execution_count": 4,
   "metadata": {
    "collapsed": false
   },
   "outputs": [
    {
     "name": "stdout",
     "output_type": "stream",
     "text": [
      "\n",
      "RUNNING CODEML/SLR\n",
      "  - processing model XX.lysozymeSmall.ctl\n"
     ]
    },
    {
     "name": "stderr",
     "output_type": "stream",
     "text": [
      "/home/fransua/Box/ete3/ete3/tools/ete_evol.py:398: UserWarning: Model XX.lysozymeSmall.ctl already runned... skipping\n",
      "  warn('Model %s already runned... skipping' % modmodel)\n"
     ]
    }
   ],
   "source": [
    "%%bash\n",
    "ete3 evol --codeml_config_file data/lysozyme/lysozymeSmall.ctl --view"
   ]
  },
  {
   "cell_type": "markdown",
   "metadata": {},
   "source": [
    "<img src=\"data/lysozyme/ete_run1_lysozyme.png\">"
   ]
  },
  {
   "cell_type": "code",
   "execution_count": null,
   "metadata": {
    "collapsed": true
   },
   "outputs": [],
   "source": []
  }
 ],
 "metadata": {
  "kernelspec": {
   "display_name": "Python 2",
   "language": "python",
   "name": "python2"
  },
  "language_info": {
   "codemirror_mode": {
    "name": "ipython",
    "version": 2
   },
   "file_extension": ".py",
   "mimetype": "text/x-python",
   "name": "python",
   "nbconvert_exporter": "python",
   "pygments_lexer": "ipython2",
   "version": "2.7.11"
  }
 },
 "nbformat": 4,
 "nbformat_minor": 0
}
