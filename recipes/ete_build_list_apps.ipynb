{
 "cells": [
  {
   "cell_type": "markdown",
   "metadata": {},
   "source": [
    "# Table of Contents\n",
    "* [List of gene tree workflows](#List-of-gene-tree-workflows)\n",
    "* [List of aligners](#List-of-aligners)\n",
    "* [List of aligner cleaners](#List-of-aligner-cleaners)\n",
    "* [List of model testers](#List-of-model-testers)\n",
    "* [List of tree builders](#List-of-tree-builders)\n",
    "* [List of species tree workflows](#List-of-species-tree-workflows)\n",
    "* [Inspect workflow details](#Inspect-workflow-details)\n",
    "* [Inspect application details](#Inspect-application-details)\n"
   ]
  },
  {
   "cell_type": "markdown",
   "metadata": {},
   "source": [
    "# List of gene tree workflows"
   ]
  },
  {
   "cell_type": "code",
   "execution_count": 1,
   "metadata": {
    "collapsed": false
   },
   "outputs": [
    {
     "name": "stdout",
     "output_type": "stream",
     "text": [
      "\r\n",
      "----------------------------------------------------------------------------------------------------------------------------------------\r\n",
      "                                                           GeneTree Workflows                                                           \r\n",
      "----------------------------------------------------------------------------------------------------------------------------------------\r\n",
      "Worflow name                             | Description                                                                      | threads   \r\n",
      "======================================== | ================================================================================ | ==========\r\n",
      "phylomedb4                               | Worflow described in Huerta-Cepas, et al (Nucleic Acid Research, 2013) and used  | 1         \r\n",
      "                                         | in http://PhylomeDB.org                                                          |           \r\n",
      "eggnog41                                 | Workflow used in the EggNOG orthology database and based on the phylomedb4 workf | 1         \r\n",
      "                                         | low                                                                              |           \r\n",
      "ensembl_small                            | Experimental (do not use yet)                                                    | 1         \r\n",
      "ensembl_large                            | Experimental (do not use yet)                                                    | 1         \r\n",
      "full_modeltest                           | Complete (and slow) pipeline testing all evolutionary models and inferring tree  | 1         \r\n",
      "                                         | with Phyml                                                                       |           \r\n",
      "full_modeltest_bootstrap                 | Complete (and slow) pipeline testing all evolutionary models and inferring tree  | 1         \r\n",
      "                                         | with Phyml and 100 bootstraps                                                    |           \r\n",
      "full_fast_modeltest                      | Test all evolutionary models using NJ inference and computes final tree with Phy | 1         \r\n",
      "                                         | ml                                                                               |           \r\n",
      "full_fast_modeltest_bootstrap            | Test all evolutionary models using NJ inference and computes final tree with Phy | 1         \r\n",
      "                                         | ml and 100 bootstraps                                                            |           \r\n",
      "full_ultrafast_modeltest                 | Test all evolutionary models using NJ inference with no F, I and G estimation an | 1         \r\n",
      "                                         | d computes final tree with Phyml                                                 |           \r\n",
      "full_ultrafast_modeltest_bootstrap       | Test all evolutionary models using NJ inference with no F, I and G estimation an | 1         \r\n",
      "                                         | d computes final tree with Phyml and 100 bootstraps                              |           \r\n",
      "soft_modeltest                           | Complete (and slow) pipeline testing 5 protein evolutionary models and inferring | 1         \r\n",
      "                                         |  tree with Phyml                                                                 |           \r\n",
      "soft_modeltest_bootstrap                 | Complete (and slow) pipeline testing 5 protein evolutionary models and inferring | 1         \r\n",
      "                                         |  tree with Phyml and 100 bootstraps                                              |           \r\n",
      "soft_fast_modeltest                      | Test 5 protein evolutionary models using NJ inference and computes final tree wi | 1         \r\n",
      "                                         | th Phyml                                                                         |           \r\n",
      "soft_fast_modeltest_bootstrap            | Test 5 protein evolutionary models using NJ inference and computes final tree wi | 1         \r\n",
      "                                         | th Phyml and 100 bootstraps                                                      |           \r\n",
      "soft_ultrafast_modeltest                 | Test 5 protein evolutionary models using NJ inference with no F, I and G estimat | 1         \r\n",
      "                                         | ion and computes final tree with Phyml                                           |           \r\n",
      "soft_ultrafast_modeltest_bootstrap       | Test 5 protein evolutionary models using NJ inference with no F, I and G estimat | 1         \r\n",
      "                                         | ion and computes final tree with Phyml and 100 bootstraps                        |           \r\n",
      "standard_raxml                           | Computes a tree using ClustalOmega with default parameters as aligner and RAxML  | 1         \r\n",
      "standard_raxml_bootstrap                 | Computes a tree using ClustalOmega with default parameters as alignerand RAxML w | 1         \r\n",
      "                                         | ith 100 bootstraps                                                               |           \r\n",
      "standard_phyml                           | Computes a tree using ClustalOmega with default parameters as aligner and Phyml  | 1         \r\n",
      "standard_phyml_bootstrap                 | Computes a tree using ClustalOmega with default parameters as aligner and Phyml  | 1         \r\n",
      "                                         | and 100 bootstraps                                                               |           \r\n",
      "standard_fasttree                        | Computes a tree using ClustalOmega with default parameters as aligner and FastTr | 1         \r\n",
      "                                         | ee                                                                               |           \r\n",
      "standard_trimmed_raxml                   | Computes a tree using default ClustalOmega as aligner, trimAl for alg. cleaning  | 1         \r\n",
      "                                         | and RAxML                                                                        |           \r\n",
      "standard_trimmed_raxml_bootstrap         | Computes a tree using ClustalOmega with default parameters, trimAl for alg. clea | 1         \r\n",
      "                                         | ning and RAxML with 100 bootstraps                                               |           \r\n",
      "standard_trimmed_phyml                   | Computes a tree using ClustalOmega with default parameters, trimAl for alg. clea | 1         \r\n",
      "                                         | ning as aligner and Phyml                                                        |           \r\n",
      "standard_trimmed_phyml_bootstrap         | Computes a tree using ClustalOmega with default parameters, trimAl for alg. clea | 1         \r\n",
      "                                         | ning as aligner and Phyml and 100 bootstraps                                     |           \r\n",
      "standard_trimmed_fasttree                | Computes a tree using ClustalOmega with default parameters, trimAl for alg. clea | 1         \r\n",
      "                                         | ning as aligner and FastTree                                                     |           \r\n"
     ]
    }
   ],
   "source": [
    "!ete3 build workflows genetree"
   ]
  },
  {
   "cell_type": "markdown",
   "metadata": {},
   "source": [
    "# List of aligners\n"
   ]
  },
  {
   "cell_type": "code",
   "execution_count": 2,
   "metadata": {
    "collapsed": false
   },
   "outputs": [
    {
     "name": "stdout",
     "output_type": "stream",
     "text": [
      "----------------------------------------------------------------------------------------------------------\r\n",
      "                                                 aligners                                                 \r\n",
      "----------------------------------------------------------------------------------------------------------\r\n",
      "name                 | app type   | desc.                                                                 \r\n",
      "==================== | ========== | ======================================================================\r\n",
      "metaligner_phylomedb | metaligner | Meta-aligning based on head/tail alignments produced by muscle, mafft \r\n",
      "                     |            | and dialign-tx, scanned with M-Coffee. Unconsistent columns are remove\r\n",
      "                     |            | d and final alignment is cleaned with trimAl                          \r\n",
      "metaligner_trimmed   | metaligner | Meta-aligning based on head/tail alignments produced by muscle, mafft \r\n",
      "                     |            | and clustalomega, scanned with M-Coffee. Unconsistent columns are remo\r\n",
      "                     |            | ved and final alignment is cleaned with trimAl                        \r\n",
      "metaligner_default   | metaligner | Meta-aligning based on head/tail alignments produced by muscle, mafft \r\n",
      "                     |            | and clustalomega, scanned with M-Coffee. Unconsistent columns are remo\r\n",
      "                     |            | ved                                                                   \r\n",
      "tcoffee_default      | tcoffee    | (EXPERIMENTAL) tcoffee alignment with default paramerters             \r\n",
      "mcoffee_ensembl      | tcoffee    | (EXPERIMENTAL) mcoffee alignment as used in the Ensembl database      \r\n",
      "muscle_default       | muscle     | muscle alignment with default parameters                              \r\n",
      "mafft_default        | mafft      | mafft alignment with default parameters                               \r\n",
      "mafft_einsi          | mafft      | mafft alignment using the E-INS-i mode                                \r\n",
      "mafft_linsi          | mafft      | mafft alignment using the L-INS-i mode                                \r\n",
      "mafft_ginsi          | mafft      | mafft alignment using the G-INS-i mode                                \r\n",
      "clustalo_default     | clustalo   | clustalo with default parameters                                      \r\n",
      "\r\n"
     ]
    }
   ],
   "source": [
    "!ete3 build apps aligners"
   ]
  },
  {
   "cell_type": "markdown",
   "metadata": {},
   "source": [
    "# List of aligner cleaners\n"
   ]
  },
  {
   "cell_type": "code",
   "execution_count": 3,
   "metadata": {
    "collapsed": false
   },
   "outputs": [
    {
     "name": "stdout",
     "output_type": "stream",
     "text": [
      "--------------------------------------------------------------------------------------\r\n",
      "                                     alg cleaners                                     \r\n",
      "--------------------------------------------------------------------------------------\r\n",
      "name            | app type | desc.                                                    \r\n",
      "=============== | ======== | =========================================================\r\n",
      "trimal001       | trimal   | trimal alignment cleaning removing columns with >1% gaps \r\n",
      "trimal01        | trimal   | trimal alignment cleaning removing columns with >10% gaps\r\n",
      "trimal02        | trimal   | trimal alignment cleaning removing columns with >20% gaps\r\n",
      "trimal03        | trimal   | trimal alignment cleaning removing columns with >30% gaps\r\n",
      "trimal05        | trimal   | trimal alignment cleaning removing columns with >50% gaps\r\n",
      "trimal_gappyout | trimal   | trimal alignment cleaning using gappyout algorithm       \r\n",
      "\r\n"
     ]
    }
   ],
   "source": [
    "!ete3 build apps \"alg cleaners\""
   ]
  },
  {
   "cell_type": "markdown",
   "metadata": {},
   "source": [
    "# List of model testers\n"
   ]
  },
  {
   "cell_type": "code",
   "execution_count": 4,
   "metadata": {
    "collapsed": false
   },
   "outputs": [
    {
     "name": "stdout",
     "output_type": "stream",
     "text": [
      "---------------------------------------------------------------------------------------------------------------\r\n",
      "                                                 model testers                                                 \r\n",
      "---------------------------------------------------------------------------------------------------------------\r\n",
      "name                      | app type   | desc.                                                                 \r\n",
      "========================= | ========== | ======================================================================\r\n",
      "prottest_default          | prottest   | Uses BioNJ trees to select best protein model from: JTT, WAG, VT, LG a\r\n",
      "                          |            | nd MtREV. Fixed parameters: +G+I+F                                    \r\n",
      "pmodeltest_full_ultrafast | pmodeltest | Test all models using NJ tree inference and skipping gamma, invariant \r\n",
      "                          |            | sites, and frequency site estimations (!G!I!F)                        \r\n",
      "pmodeltest_full_fast      | pmodeltest | Test all models using NJ tree inference                               \r\n",
      "pmodeltest_full_slow      | pmodeltest | Test all models using ML tree inference                               \r\n",
      "pmodeltest_soft_ultrafast | pmodeltest | Test JTT,WAG,VT,LG,MtREV models using NJ tree inference and skipping g\r\n",
      "                          |            | amma, invariant sites, and frequency site estimation (!G!I!F)         \r\n",
      "pmodeltest_soft_fast      | pmodeltest | Test JTT,WAG,VT,LG,MtREV models using NJ tree inference               \r\n",
      "pmodeltest_soft_slow      | pmodeltest | Test JTT,WAG,VT,LG,MtREV models using ML tree inference               \r\n",
      "\r\n"
     ]
    }
   ],
   "source": [
    "!ete3 build apps \"model testers\""
   ]
  },
  {
   "cell_type": "markdown",
   "metadata": {},
   "source": [
    "# List of tree builders\n"
   ]
  },
  {
   "cell_type": "code",
   "execution_count": 5,
   "metadata": {
    "collapsed": false
   },
   "outputs": [
    {
     "name": "stdout",
     "output_type": "stream",
     "text": [
      "-----------------------------------------------------------------------------------------------------------\r\n",
      "                                               tree builders                                               \r\n",
      "-----------------------------------------------------------------------------------------------------------\r\n",
      "name                    | app type | desc.                                                                 \r\n",
      "======================= | ======== | ======================================================================\r\n",
      "bionj_default           | phyml    | BioNJ tree inferred with Phyml. default models JTT/GTR                \r\n",
      "fasttree_default        | fasttree | Fasttree with default parameters                                      \r\n",
      "fasttree_full           | fasttree | Fasttree with slow NNI and MLACC=3                                    \r\n",
      "phyml_default           | phyml    | Phyml tree using +G+I+F, 4 classes and aLRT branch supports. Default m\r\n",
      "                        |          | odels JTT/GTR                                                         \r\n",
      "phyml_default_bootstrap | phyml    | Phyml tree using +G+I+F, 4 classes and 100 bootstraps. Default models \r\n",
      "                        |          | JTT/GTR                                                               \r\n",
      "raxml_default           | raxml    | RAxML with default parameters, GAMMA JTT/GTR and aLRT branch supports.\r\n",
      "raxml_default_bootstrap | raxml    | RAxML with default parameters, GAMMA JTT/GTR and 100 boostrap replicat\r\n",
      "                        |          | es                                                                    \r\n",
      "treebest_ensembl        | phyml    | (EXPERIMENTAL)                                                        \r\n",
      "\r\n"
     ]
    }
   ],
   "source": [
    "!ete3 build apps \"tree builders\""
   ]
  },
  {
   "cell_type": "markdown",
   "metadata": {},
   "source": [
    "# List of species tree workflows"
   ]
  },
  {
   "cell_type": "code",
   "execution_count": 6,
   "metadata": {
    "collapsed": false
   },
   "outputs": [
    {
     "name": "stdout",
     "output_type": "stream",
     "text": [
      "\r\n",
      "----------------------------------------------------------------------------------------------------------------------------------------\r\n",
      "                                                         Supermatrix Workflows                                                          \r\n",
      "----------------------------------------------------------------------------------------------------------------------------------------\r\n",
      "Worflow name                             | Description                                                                      | threads   \r\n",
      "======================================== | ================================================================================ | ==========\r\n",
      "sptree_fasttree_100                      | Selects COGs present in all target species, make a concatenated alignment and bu | 1         \r\n",
      "                                         | ild a tree with FastTree                                                         |           \r\n",
      "sptree_fasttree_95                       | Selects COGs present in at least 95% of the target species, make a concatenated  | 1         \r\n",
      "                                         | alignment and build a tree with FastTree                                         |           \r\n",
      "sptree_fasttree_90                       | Selects COGs present in at least 90% of the target species, make a concatenated  | 1         \r\n",
      "                                         | alignment and build a tree with FastTree                                         |           \r\n",
      "sptree_fasttree_85                       | Selects COGs present in at least 85% of the target species, make a concatenated  | 1         \r\n",
      "                                         | alignment and build a tree with FastTree                                         |           \r\n",
      "sptree_fasttree_all                      | Selects all COGS regardless of how many species are represented, make a concaten | 1         \r\n",
      "                                         | ated alignment and build a tree with FastTree                                    |           \r\n",
      "sptree_raxml_100                         | Selects COGs present in all target species, make a concatenated alignment and bu | 1         \r\n",
      "                                         | ild a tree with RAxML                                                            |           \r\n",
      "sptree_raxml_95                          | Selects COGs present in at least 95% of the target species, make a concatenated  | 1         \r\n",
      "                                         | alignment and build a tree with RAxML                                            |           \r\n",
      "sptree_raxml_90                          | Selects COGs present in at least 90% of the target species, make a concatenated  | 1         \r\n",
      "                                         | alignment and build a tree with RAxML                                            |           \r\n",
      "sptree_raxml_85                          | Selects COGs present in at least 85% of the target species, make a concatenated  | 1         \r\n",
      "                                         | alignment and build a tree with RAxML                                            |           \r\n",
      "sptree_raxml_all                         | Selects all COGS regardless of how many species are represented, make a concaten | 1         \r\n",
      "                                         | ated alignment and build a tree with RAxML                                       |           \r\n"
     ]
    }
   ],
   "source": [
    "!ete3 build workflows supermatrix"
   ]
  },
  {
   "cell_type": "markdown",
   "metadata": {},
   "source": [
    "# Inspect workflow details"
   ]
  },
  {
   "cell_type": "markdown",
   "metadata": {},
   "source": [
    "(`ete3 build show` for inspecting / `ete3 build dump` for raw ouput )"
   ]
  },
  {
   "cell_type": "code",
   "execution_count": 7,
   "metadata": {
    "collapsed": false
   },
   "outputs": [
    {
     "name": "stdout",
     "output_type": "stream",
     "text": [
      "\u001b[1;33m[genetree_meta_workflow]\u001b[0m\r\n",
      "standard_raxml = clustalo_default-none-none-raxml_default\r\n",
      "\r\n",
      "\u001b[32m[clustalo_default-none-none-raxml_default]\u001b[0m\r\n",
      "\u001b[33m                   _aa_tree_builder\u001b[0m = @raxml_default\r\n",
      "\u001b[33m                        _aa_aligner\u001b[0m = @clustalo_default\r\n",
      "\u001b[33m                    _nt_alg_cleaner\u001b[0m = none\r\n",
      "\u001b[33m                   _aa_model_tester\u001b[0m = none\r\n",
      "\u001b[33m                   _nt_tree_builder\u001b[0m = @raxml_default\r\n",
      "\u001b[1;34m                               _app = genetree\u001b[0m\r\n",
      "\u001b[33m                        _nt_aligner\u001b[0m = @clustalo_default\r\n",
      "\u001b[33m                    _aa_alg_cleaner\u001b[0m = none\r\n",
      "\u001b[33m                   _nt_model_tester\u001b[0m = none\r\n",
      "\u001b[33m                            _appset\u001b[0m = @builtin_apps\r\n",
      "\r\n",
      "\u001b[32m[clustalo_default]\u001b[0m\r\n",
      "\u001b[33m                              _desc\u001b[0m = clustalo with default parameters\r\n",
      "\u001b[1;34m                               _app = clustalo\u001b[0m\r\n",
      "\r\n",
      "\u001b[32m[raxml_default]\u001b[0m\r\n",
      "\u001b[33m                              _desc\u001b[0m = RAxML with default parameters, GAMMA JTT/GTR and aLRT branch supports.\r\n",
      "\u001b[1;34m                               _app = raxml\u001b[0m\r\n",
      "\u001b[33m                         _bootstrap\u001b[0m = alrt\r\n",
      "\u001b[33m                            _method\u001b[0m = GAMMA\r\n",
      "\u001b[33m                          _aa_model\u001b[0m = JTT\r\n",
      "\u001b[33m                      _model_suffix\u001b[0m = \r\n",
      "\u001b[33m                                 -f\u001b[0m = d\r\n",
      "\u001b[33m                                 -p\u001b[0m = 31416\r\n",
      "\r\n"
     ]
    }
   ],
   "source": [
    "!ete3 build show standard_raxml"
   ]
  },
  {
   "cell_type": "markdown",
   "metadata": {},
   "source": [
    "# Inspect application details"
   ]
  },
  {
   "cell_type": "markdown",
   "metadata": {},
   "source": [
    "(`ete3 build show` for inspecting / `ete3 build dump` for raw ouput )"
   ]
  },
  {
   "cell_type": "code",
   "execution_count": 8,
   "metadata": {
    "collapsed": false
   },
   "outputs": [
    {
     "name": "stdout",
     "output_type": "stream",
     "text": [
      "\u001b[32m[pmodeltest_soft_ultrafast]\u001b[0m\r\n",
      "\u001b[33m                              _desc\u001b[0m = Test JTT,WAG,VT,LG,MtREV models using NJ tree inference and skipping gamma, invariant sites, and frequency site estimation (!G!I!F)\r\n",
      "\u001b[1;34m                               _app = pmodeltest\u001b[0m\r\n",
      "\u001b[33m                         _aa_models\u001b[0m = JTT,WAG,VT,LG,MtREV\r\n",
      "\u001b[33m                         _nt_models\u001b[0m = GTR\r\n",
      "\u001b[33m                             --fast\u001b[0m = \r\n",
      "\u001b[33m                            --noinv\u001b[0m = \r\n",
      "\u001b[33m                            --nogam\u001b[0m = \r\n",
      "\r\n"
     ]
    }
   ],
   "source": [
    "!ete3 build show pmodeltest_soft_ultrafast"
   ]
  }
 ],
 "metadata": {
  "kernelspec": {
   "display_name": "Python 2",
   "language": "python",
   "name": "python2"
  },
  "language_info": {
   "codemirror_mode": {
    "name": "ipython",
    "version": 2
   },
   "file_extension": ".py",
   "mimetype": "text/x-python",
   "name": "python",
   "nbconvert_exporter": "python",
   "pygments_lexer": "ipython2",
   "version": "2.7.11"
  }
 },
 "nbformat": 4,
 "nbformat_minor": 0
}
