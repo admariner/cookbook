{
 "cells": [
  {
   "cell_type": "markdown",
   "metadata": {},
   "source": [
    "# ete-build\n",
    "\n",
    "Build phylogenetic trees using reproducible workflows and executed a single command line\n",
    "\n",
    "\n",
    "_ete-build_ is a wrapper tool that simplifies the reconstruction of **gene trees** and **species trees** by executing custom workflows. Most notable features include:\n",
    "\n",
    "- All the external software required to align sequences, test evolutionary models and infer trees is handled transparently and pipelined as necessary. \n",
    "\n",
    "- Full gene-tree and species-tree workflows can be executed with a single command line.\n",
    "\n",
    "- Choose between simple or advance use:\n",
    "   - A number of pre-configured workflows are provided. You can just pick a name and run it\n",
    "   - Custom workflows can be build using a gallery of pre-configured application binding\n",
    "   - New workflows and application binds can be created\n",
    "\n",
    "- Support for multi-CPU systems. Tasks are distributed in parallel taking into account data dependencies and enabling multi-threading options in external software when avaialble. \n",
    "\n",
    "- HPC ready: As workflows run with a single self contained process, computing thousands of trees using in a Cluster is as easy as submiting one job per tree.  \n",
    "\n",
    "- User-friendly monitoring: All tasks are monitored during execution. \n",
    "\n",
    "- Extendable. Unsupported software can be plugged-in by developing simple bindings. \n",
    "\n",
    "\n",
    "# Getting started\n",
    "\n",
    "## Build a gene phylogeny \n",
    "\n",
    "The easiest way to build gene-tree is to [choose](http://etetoolkit.org/ete-build) a name from the list of predefined workflows and run it. \n",
    "\n",
    "\n",
    "## Build a species phylogeny \n",
    "\n",
    "`ete-builds` allows bulding species trees based on concatenated alignments. All you need to provide is sequences and the set of gene families to concatenate (Usually referred as Clusters of Orthologous Groups - COGs)\n",
    "\n",
    "\n",
    "\n"
   ]
  },
  {
   "cell_type": "markdown",
   "metadata": {},
   "source": [
    "# Documentation\n",
    "\n",
    "\n",
    "\n",
    "- [Basic concepts behind ete-build](ete_build_basics.ipynb) \n",
    "- [Personalize workflows](ete_build_workflows.ipynb) \n",
    "- [Create new workflows and application bindings](ete_build_custom_workflows.ipynb) \n",
    "\n",
    "- [Combining amino-acid and nucleotide sequences](ete_build_mixed_types.ipynb)\n",
    "- [Resuming a broken analysis](ete_build_resuming.ipynb)\n",
    "- [Runninng multiple workflows at once](ete_build_metaworkflows.ipynb)\n",
    "\n",
    "- [Building species trees](ete_build_supematrix.ipynb)\n",
    "- [Tips and options regarding input data](ete_build_input_seqs.ipynb)\n",
    "- [Tips for running in a cluster environment](ete_build_cluster.ipynb)\n",
    "- [Troubleshooting](ete_build_troubleshoot.ipynb)\n",
    "\n",
    "\n",
    "# About reproducibility "
   ]
  },
  {
   "cell_type": "code",
   "execution_count": null,
   "metadata": {
    "collapsed": true
   },
   "outputs": [],
   "source": []
  }
 ],
 "metadata": {
  "kernelspec": {
   "display_name": "Python 2",
   "language": "python",
   "name": "python2"
  },
  "language_info": {
   "codemirror_mode": {
    "name": "ipython",
    "version": 2
   },
   "file_extension": ".py",
   "mimetype": "text/x-python",
   "name": "python",
   "nbconvert_exporter": "python",
   "pygments_lexer": "ipython2",
   "version": "2.7.11"
  }
 },
 "nbformat": 4,
 "nbformat_minor": 0
}
