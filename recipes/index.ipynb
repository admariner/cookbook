{
 "cells": [
  {
   "cell_type": "markdown",
   "metadata": {},
   "source": [
    "# Index \n",
    "\n",
    "## Tree building (ete-build)\n",
    "\n",
    "- [Basic concepts behind ete-build](ete_build_basics.ipynb) \n",
    "- [Compose custom workflows](ete_build_workflows.ipynb)  \n",
    "- [Runninng multiple workflows at once](ete_build_metaworkflow.ipynb)\n",
    "- [Create new workflows and application bindings](ete_build_new_workflows.ipynb)\n",
    "- [Combining amino-acid and nucleotide sequences](ete_build_mixed_types.ipynb)\n",
    "- [Using manual alignments](ete_build_manual_algs.ipynb)\n",
    "- [Resuming or extendending an analysis](ete_build_resuming.ipynb)\n",
    "\n",
    "\n",
    "\n",
    "- [Building species trees](ete_build_supematrix.ipynb) (Concatenated alignments)\n",
    "- [Tips and options regarding input data](ete_build_input_seqs.ipynb)\n",
    "- [Tips for running in a cluster environment](ete_build_cluster.ipynb)\n",
    "- [Troubleshooting](ete_build_troubleshoot.ipynb)\n",
    "\n",
    "## Testing evolutionary hipothesis (ete-evol)\n",
    "\n",
    "- [Running a Codeml analysis](ete_evol_lysozyme.ipynb) (Reproducing results from Yang Z (MBE, 1998))\n"
   ]
  }
 ],
 "metadata": {
  "kernelspec": {
   "display_name": "Python 2",
   "language": "python",
   "name": "python2"
  },
  "language_info": {
   "codemirror_mode": {
    "name": "ipython",
    "version": 2
   },
   "file_extension": ".py",
   "mimetype": "text/x-python",
   "name": "python",
   "nbconvert_exporter": "python",
   "pygments_lexer": "ipython2",
   "version": "2.7.11"
  }
 },
 "nbformat": 4,
 "nbformat_minor": 0
}
