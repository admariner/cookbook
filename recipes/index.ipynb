{
 "cells": [
  {
   "cell_type": "markdown",
   "metadata": {},
   "source": [
    "# ETE-Tools Cookbook\n",
    "\n",
    "## Tree building (ete-build)\n",
    "\n",
    "- [Basic concepts behind ete-build](ete_build_basics.ipynb) \n",
    "- [Compose custom workflows](ete_build_workflows.ipynb)  \n",
    "- [Runninng multiple workflows at once](ete_build_metaworkflow.ipynb)\n",
    "- [Create new workflows and application bindings](ete_build_new_workflows.ipynb)\n",
    "- [Combining amino-acid and nucleotide sequences](ete_build_mixed_types.ipynb)\n",
    "- [Using manual alignments](ete_build_manual_algs.ipynb)\n",
    "\n",
    "  ** Species trees: **\n",
    "- [Building species trees](ete_build_supermatrix.ipynb) (Concatenated alignments)\n",
    "\n",
    "  ** Tips, troubleshooting and debuging: **\n",
    "- [Tips and optional arguments](ete_build_tips.ipynb)\n",
    "- [Details on workflow execution and intermediate data](ete_build_temp_data.ipynb) \n",
    "- [Troubleshooting](ete_build_troubleshoot.ipynb)\n",
    "\n",
    "## Testing evolutionary hypothesis (ete-evol)\n",
    "\n",
    "- [Testing evolutionary models on branches](ete_evol_lysozyme_branch.ipynb) (Reproducing results from Yang Z (MBE, 1998))\n",
    "- [Testing evolutionary models on sites](ete_evol_hiv-env-site.ipynb) (Reproducing results from Yang Z (MBE, 2005)) [X]\n",
    "- [Testing evolutionary models on sites in a given lineage](ete_evol_lysozyme_branch-site.ipynb) (Reproducing results from Yang Z (MBE, 2002)) [X]\n",
    "- [Running a Codeml from configuration file](ete_evol_codeml_configuration_files.ipynb) (running directly PAML examples)\n",
    "\n"
   ]
  },
  {
   "cell_type": "code",
   "execution_count": null,
   "metadata": {
    "collapsed": true
   },
   "outputs": [],
   "source": []
  }
 ],
 "metadata": {
  "kernelspec": {
   "display_name": "Python 2",
   "language": "python",
   "name": "python2"
  },
  "language_info": {
   "codemirror_mode": {
    "name": "ipython",
    "version": 2
   },
   "file_extension": ".py",
   "mimetype": "text/x-python",
   "name": "python",
   "nbconvert_exporter": "python",
   "pygments_lexer": "ipython2",
   "version": "2.7.11"
  }
 },
 "nbformat": 4,
 "nbformat_minor": 0
}
