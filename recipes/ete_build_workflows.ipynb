{
 "cells": [
  {
   "cell_type": "markdown",
   "metadata": {},
   "source": [
    "# Personalizing worlflows\n",
    "\n",
    "This recipe shows how to combine applications to create custom workflows in `ete-build`.\n",
    "\n",
    "## Requirement\n",
    "\n",
    "- ete3\n",
    "- ete3_external_apps\n",
    "- [Basic concepts behind ete-build](ete_build_basics.ipynb) \n"
   ]
  },
  {
   "cell_type": "markdown",
   "metadata": {},
   "source": [
    "# 1. Browse available applications \n",
    "\n",
    "Apart from the list of predefined workflows, ETE permits to define custom workfows by "
   ]
  }
 ],
 "metadata": {
  "kernelspec": {
   "display_name": "Python 2",
   "language": "python",
   "name": "python2"
  },
  "language_info": {
   "codemirror_mode": {
    "name": "ipython",
    "version": 2
   },
   "file_extension": ".py",
   "mimetype": "text/x-python",
   "name": "python",
   "nbconvert_exporter": "python",
   "pygments_lexer": "ipython2",
   "version": "2.7.11"
  }
 },
 "nbformat": 4,
 "nbformat_minor": 0
}
