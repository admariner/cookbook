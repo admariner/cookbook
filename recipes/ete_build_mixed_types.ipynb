{
 "cells": [
  {
   "cell_type": "markdown",
   "metadata": {},
   "source": [
    "# Automatic switching from amino-acid to codon-based alignments\n",
    "\n",
    "This recipe shows how to use `ete-build` to build nucleotide-based genes tress based on amino-acid alignments.\n",
    "\n",
    "\n",
    "For instance, if the average sequence identity in the amino-acid alignment is higher than a given threshold, ete-build will automatically translate the amino-acid alignment into a codon-based alignment and infer a tree based on the nucleotide models (codon-models are not supported).\n",
    "\n",
    "This is a useful approach when protein alignments do not provide enough phylogenetic resolution (i.e. synonymous mutations are masked), but you still want to use amino-acid based alignments for better accuracy vs nucleotide-based ones.\n",
    "\n",
    "\n",
    "## Requirements\n",
    "- ete3\n",
    "- ete3_external_apps\n",
    "- [basic concepts about ete-build](ete_build_basics.ipynb)\n",
    "\n"
   ]
  },
  {
   "cell_type": "markdown",
   "metadata": {},
   "source": [
    "## Recipe\n",
    "\n",
    "### 1. Prepare amino-acid and nucleotide multi sequence FASTA files \n",
    "\n",
    "Both FASTA files should contain the exact same set of sequence names. Nucleotide sequences should be the coding sequence for the amino-acid sequences (i.e coincide in length)\n",
    "\n"
   ]
  },
  {
   "cell_type": "code",
   "execution_count": 6,
   "metadata": {
    "collapsed": false
   },
   "outputs": [
    {
     "name": "stdout",
     "output_type": "stream",
     "text": [
      "==> data/NUP62.aa.fa <==\n",
      ">Phy003I7ZJ_CHICK\n",
      "TMSQFNFSSAPAGGGFSFSTPKTAASTTAATGFSFTPAPSSGFTFGGAAPTPASSQPVTP\n",
      "FSFSTPASSALPTAFSFGTPATATTAAPAASVFPLGGNAPKLNFGGTSTTQATGITGGFG\n",
      "FGTSAPTSVPSSQAAAPSGFMFGTAATTTTTTTAAQPGTTGGFTFSSGTTTQAGTTGFNI\n",
      "GATSTAAPQAVPTGLTFGAAPAAAATTTASLGSTTQPAATPFSLGGQSSATLTASTSQGP\n",
      "\n",
      "==> data/NUP62.nt.fa <==\n",
      ">Phy003I7ZJ_CHICK\n",
      "ACCATGAGCCAGTTCAACTTCAGCTCGGCCCCGGCGGGAGGCGGCTTCTCCTTCAGCACGCCGAAAACGGCCGCCAGCAC\n",
      "CACCGCGGCCACCGGCTTCTCCTTCACGCCCGCTCCCTCCTCGGGATTCACGTTCGGCGGCGCTGCTCCGACACCCGCCA\n",
      "GCAGCCAGCCCGTCACGCCCTTCTCCTTCAGCACGCCGGCCAGCAGCGCGCTGCCCACCGCCTTCAGCTTCGGGACGCCC\n",
      "GCAACAGCCACCACCGCCGCCCCGGCTGCCAGCGTGTTCCCGTTAGGGGGAAACGCACCAAAGCTCAACTTTGGAGGCAC\n"
     ]
    }
   ],
   "source": [
    "%%bash \n",
    "head data/NUP62.aa.fa data/NUP62.nt.fa -n5"
   ]
  },
  {
   "cell_type": "markdown",
   "metadata": {},
   "source": [
    "### 2. Enable mixed mode in ete-build workflows \n",
    "For this, \n",
    "- pass both FASTA files as arguments to ete-build (`-a` for proteins, `-n` for nucleotide sequences)\n",
    "- specifying a threshold for the aa->nt switch. This is, the maximum protein sequence identity allowed to build protein-based trees. \n",
    "\n",
    "If the average sequence identity in a protein alignments is higher than the threshold provided, `ete-build` will convert the alignment into a codon-based alignment and continue to infer the tree using a nucleotide model.\n",
    "\n",
    "In the following example, we configure the workflow to use nucleotide alignments if the average protein similarity is above 90%. "
   ]
  },
  {
   "cell_type": "code",
   "execution_count": 19,
   "metadata": {
    "collapsed": false
   },
   "outputs": [
    {
     "name": "stdout",
     "output_type": "stream",
     "text": [
      "Toolchain path: /Users/jhc/anaconda/bin/ete3_apps \n",
      "Toolchain version: 2.0.3\n",
      "\n",
      "\n",
      "      --------------------------------------------------------------------------------\n",
      "                  ETE build - reproducible phylogenetic workflows \n",
      "                                    unknown, unknown.\n",
      "\n",
      "      If you use ETE in a published work, please cite:\n",
      "\n",
      "        Jaime Huerta-Cepas, Joaquín Dopazo and Toni Gabaldón. ETE: a python\n",
      "        Environment for Tree Exploration. BMC Bioinformatics 2010,\n",
      "        11:24. doi:10.1186/1471-2105-11-24\n",
      "\n",
      "      (Note that a list of the external programs used to complete all necessary\n",
      "      computations will be also shown after execution. Those programs should\n",
      "      also be cited.)\n",
      "      --------------------------------------------------------------------------------\n",
      "\n",
      "    \n",
      "\u001b[32mINFO\u001b[0m -  Testing x86-64  portable applications...\n",
      "       clustalo: \u001b[32mOK\u001b[0m - 1.2.1\n",
      "\u001b[33mDialign-tx not supported in OS X\u001b[0m\n",
      "       fasttree: \u001b[32mOK\u001b[0m - FastTree Version 2.1.8 Double precision (No SSE3), OpenMP (1 threads)\n",
      "         kalign: \u001b[32mOK\u001b[0m - Kalign version 2.04, Copyright (C) 2004, 2005, 2006 Timo Lassmann\n",
      "          mafft: \u001b[32mOK\u001b[0m - MAFFT v6.861b (2011/09/24)\n",
      "         muscle: \u001b[32mOK\u001b[0m - MUSCLE v3.8.31 by Robert C. Edgar\n",
      "          phyml: \u001b[32mOK\u001b[0m - . This is PhyML version 20160115.\n",
      "     pmodeltest: \u001b[32mOK\u001b[0m - pmodeltest.py v1.4\n",
      "          prank: \u001b[32mOK\u001b[0m - prank v.100802. Minimal usage: 'prank sequence_file'\n",
      "       probcons: \u001b[32mOK\u001b[0m - PROBCONS version 1.12 - align multiple protein sequences and print to standard output\n",
      "          raxml: \u001b[32mOK\u001b[0m - This is RAxML version 8.1.20 released by Alexandros Stamatakis on April 18 2015.\n",
      " raxml-pthreads: \u001b[32mOK\u001b[0m - This is RAxML version 8.1.20 released by Alexandros Stamatakis on April 18 2015.\n",
      "         readal: \u001b[32mOK\u001b[0m - readAl v1.4.rev6 build[2012-02-02]\n",
      "         statal: \u001b[32mOK\u001b[0m - statAl v1.4.rev6 build[2012-02-02]\n",
      "        tcoffee: \u001b[32mOK\u001b[0m - PROGRAM: T-COFFEE Version_11.00.8cbe486 (2014-08-12 22:05:29 - Revision 8cbe486 - Build 477)\n",
      "         trimal: \u001b[32mOK\u001b[0m - trimAl v1.4.rev6 build[2012-02-02]\n",
      "\u001b[32mINFO\u001b[0m -  Starting ETE-build execution at Mon Feb  8 14:05:16 2016\n",
      "\u001b[32mINFO\u001b[0m -  Output directory /Users/jhc/_Devel/cookbook/recipes/mixed_types\n",
      "\u001b[32mINFO\u001b[0m -  Erasing all existing npr data...\n",
      "\u001b[1;37;43mWRNG\u001b[0m -  Using existing dir: /Users/jhc/_Devel/cookbook/recipes/mixed_types/db\n",
      "\u001b[32mINFO\u001b[0m -  Reading aa sequences from data/NUP62.aa.fa...\n",
      "\u001b[32mINFO\u001b[0m -  Reading nt sequences from data/NUP62.nt.fa...\n",
      "\u001b[1;37;43mWRNG\u001b[0m -  25 target sequences\n",
      "\u001b[32mINFO\u001b[0m -  ETE build starts now!\n",
      "\u001b[32mINFO\u001b[0m -  \u001b[1;37;40m Updating tasks status:\u001b[0m (Mon Feb  8 14:05:16 2016)\n",
      "\u001b[32mINFO\u001b[0m -  Thread \u001b[1;37;40mclustalo_default-none-none-fasttree_full\u001b[0m: pending tasks: \u001b[1;33m1\u001b[0m of sizes: 25\n",
      "\u001b[32mINFO\u001b[0m -   (W\u001b[0m) \u001b[34mMultiSeqTask\u001b[0m (25 aa seqs, MSF, /\u001b[1;37;40mclustalo_d...ttree_full\u001b[0m)\n",
      "\u001b[32mINFO\u001b[0m -   (\u001b[1;34mD\u001b[0m) \u001b[34mMultiSeqTask\u001b[0m (25 aa seqs, MSF, /\u001b[1;37;40mclustalo_d...ttree_full\u001b[0m)\n",
      "\u001b[32mINFO\u001b[0m -  \u001b[1;37;40mWaiting 2 seconds\u001b[0m\n",
      "\u001b[32mINFO\u001b[0m -  \u001b[1;37;40m Updating tasks status:\u001b[0m (Mon Feb  8 14:05:18 2016)\n",
      "\u001b[32mINFO\u001b[0m -  Thread \u001b[1;37;40mclustalo_default-none-none-fasttree_full\u001b[0m: pending tasks: \u001b[1;33m1\u001b[0m of sizes: 25\n",
      "\u001b[32mINFO\u001b[0m -   (W\u001b[0m) \u001b[31mAlgTask\u001b[0m (25 aa seqs, Clustal-Omega, /\u001b[1;37;40mclustalo_d...ttree_full\u001b[0m)\n",
      "\u001b[32mINFO\u001b[0m -  \u001b[1;37;40mWaiting 2 seconds\u001b[0m\n",
      "\u001b[32mINFO\u001b[0m -  \u001b[1;37;40m Updating tasks status:\u001b[0m (Mon Feb  8 14:05:20 2016)\n",
      "\u001b[32mINFO\u001b[0m -  Thread \u001b[1;37;40mclustalo_default-none-none-fasttree_full\u001b[0m: pending tasks: \u001b[1;33m1\u001b[0m of sizes: 25\n",
      "\u001b[32mINFO\u001b[0m -   (W\u001b[0m) \u001b[31mAlgTask\u001b[0m (25 aa seqs, Clustal-Omega, /\u001b[1;37;40mclustalo_d...ttree_full\u001b[0m)\n",
      "\u001b[32mINFO\u001b[0m -   (\u001b[1;34mD\u001b[0m) \u001b[31mAlgTask\u001b[0m (25 aa seqs, Clustal-Omega, /\u001b[1;37;40mclustalo_d...ttree_full\u001b[0m)\n",
      "\u001b[32mINFO\u001b[0m -          \u001b[35mSwitching to codon alignment!\u001b[0m amino-acid sequence similarity: 0.91 >= 0.90\n",
      "\u001b[32mINFO\u001b[0m -  \u001b[1;37;40mWaiting 2 seconds\u001b[0m\n",
      "\u001b[32mINFO\u001b[0m -  \u001b[1;37;40m Updating tasks status:\u001b[0m (Mon Feb  8 14:05:22 2016)\n",
      "\u001b[32mINFO\u001b[0m -  Thread \u001b[1;37;40mclustalo_default-none-none-fasttree_full\u001b[0m: pending tasks: \u001b[1;33m1\u001b[0m of sizes: 25\n",
      "\u001b[32mINFO\u001b[0m -   (W\u001b[0m) \u001b[32mTreeTask\u001b[0m (25 nt seqs, FastTree, /\u001b[1;37;40mclustalo_d...ttree_full\u001b[0m)\n",
      "\u001b[32mINFO\u001b[0m -  \u001b[1;37;40mWaiting 2 seconds\u001b[0m\n",
      "\u001b[32mINFO\u001b[0m -  \u001b[1;37;40m Updating tasks status:\u001b[0m (Mon Feb  8 14:05:24 2016)\n",
      "\u001b[32mINFO\u001b[0m -  Thread \u001b[1;37;40mclustalo_default-none-none-fasttree_full\u001b[0m: pending tasks: \u001b[1;33m1\u001b[0m of sizes: 25\n",
      "\u001b[32mINFO\u001b[0m -   (W\u001b[0m) \u001b[32mTreeTask\u001b[0m (25 nt seqs, FastTree, /\u001b[1;37;40mclustalo_d...ttree_full\u001b[0m)\n",
      "\u001b[32mINFO\u001b[0m -  \u001b[1;37;40mWaiting 2 seconds\u001b[0m\n",
      "\u001b[32mINFO\u001b[0m -  \u001b[1;37;40m Updating tasks status:\u001b[0m (Mon Feb  8 14:05:26 2016)\n",
      "\u001b[32mINFO\u001b[0m -  Thread \u001b[1;37;40mclustalo_default-none-none-fasttree_full\u001b[0m: pending tasks: \u001b[1;33m1\u001b[0m of sizes: 25\n",
      "\u001b[32mINFO\u001b[0m -   (\u001b[1;31mR\u001b[0m) \u001b[32mTreeTask\u001b[0m (25 nt seqs, FastTree, /\u001b[1;37;40mclustalo_d...ttree_full\u001b[0m)\n",
      "\u001b[32mINFO\u001b[0m -   (\u001b[1;34mD\u001b[0m) \u001b[32mTreeTask\u001b[0m (25 nt seqs, FastTree, /\u001b[1;37;40mclustalo_d...ttree_full\u001b[0m)\n",
      "\u001b[32mINFO\u001b[0m -  \u001b[1;37;40mWaiting 2 seconds\u001b[0m\n",
      "\u001b[32mINFO\u001b[0m -  \u001b[1;37;40m Updating tasks status:\u001b[0m (Mon Feb  8 14:05:28 2016)\n",
      "\u001b[32mINFO\u001b[0m -  Thread \u001b[1;37;40mclustalo_default-none-none-fasttree_full\u001b[0m: pending tasks: \u001b[1;33m1\u001b[0m of sizes: 25\n",
      "\u001b[32mINFO\u001b[0m -   (W\u001b[0m) \u001b[36mTreeMergeTask\u001b[0m (25 nt seqs, TreeMerger, /\u001b[1;37;40mclustalo_d...ttree_full\u001b[0m)\n",
      "\u001b[32mINFO\u001b[0m -   (\u001b[1;34mD\u001b[0m) \u001b[36mTreeMergeTask\u001b[0m (25 nt seqs, TreeMerger, /\u001b[1;37;40mclustalo_d...ttree_full\u001b[0m)\n",
      "\u001b[32mINFO\u001b[0m -  \u001b[1;37;40mWaiting 2 seconds\u001b[0m\n",
      "\u001b[32mINFO\u001b[0m -  Assembling final tree...\n",
      "\u001b[32mINFO\u001b[0m -  Done thread \u001b[1;37;45mclustalo_default-none-none-fasttree_full\u001b[0m in 1 iteration(s)\n",
      "\u001b[32mINFO\u001b[0m -  Writing final tree for \u001b[1;37;40mclustalo_default-none-none-fasttree_full\u001b[0m\n",
      "   /Users/jhc/_Devel/cookbook/recipes/mixed_types/clustalo_default-none-none-fasttree_full/NUP62.aa.fa.final_tree.nw\n",
      "   /Users/jhc/_Devel/cookbook/recipes/mixed_types/clustalo_default-none-none-fasttree_full/NUP62.aa.fa.final_tree.nwx (newick extended)\n",
      "\u001b[32mINFO\u001b[0m -  Writing final tree alignment \u001b[1;37;40mclustalo_default-none-none-fasttree_full\u001b[0m\n",
      "   /Users/jhc/_Devel/cookbook/recipes/mixed_types/clustalo_default-none-none-fasttree_full/NUP62.aa.fa.final_tree.used_alg.fa\n",
      "\u001b[32mINFO\u001b[0m -  Writing root node alignment \u001b[1;37;40mclustalo_default-none-none-fasttree_full\u001b[0m\n",
      "   /Users/jhc/_Devel/cookbook/recipes/mixed_types/clustalo_default-none-none-fasttree_full/NUP62.aa.fa.final_tree.fa\n",
      "\u001b[32mINFO\u001b[0m -  Generating tree image for \u001b[1;37;40mclustalo_default-none-none-fasttree_full\u001b[0m\n",
      "   /Users/jhc/_Devel/cookbook/recipes/mixed_types/clustalo_default-none-none-fasttree_full/NUP62.aa.fa.final_tree.png\n",
      "\u001b[32mINFO\u001b[0m -  Done\n",
      "\u001b[32mINFO\u001b[0m -  Deleting temporal data...\n",
      "   ========================================================================\n",
      "         The following published software and/or methods were used.        \n",
      "               *** Please, do not forget to cite them! ***                 \n",
      "   ========================================================================\n",
      "   Sievers F, Wilm A, Dineen D, Gibson TJ, Karplus K, Li W, Lopez R,\n",
      "      McWilliam H, Remmert M, Söding J, Thompson JD, Higgins DG. Fast,\n",
      "      scalable generation of high-quality protein multiple sequence\n",
      "      alignments using Clustal Omega. Mol Syst Biol. 2011 Oct 11;7:539.\n",
      "      doi: 10.1038/msb.2011.75.\n",
      "   Huerta-Cepas J, Dopazo J, Gabaldón T. ETE: a python Environment for Tree\n",
      "      Exploration. BMC Bioinformatics. 2010 Jan 13;11:24.\n",
      "   Price MN, Dehal PS, Arkin AP. FastTree 2 - approximately maximum-\n",
      "      likelihood trees for large alignments. PLoS One. 2010 Mar\n",
      "      10;5(3):e9490.\n"
     ]
    }
   ],
   "source": [
    "%%bash \n",
    "ete3 build -a data/NUP62.aa.fa -n data/NUP62.nt.fa -o mixed_types/ -w standard_fasttree --clearall --nt-switch-threshold 0.9\n"
   ]
  },
  {
   "cell_type": "markdown",
   "metadata": {},
   "source": [
    "During executing, a warning like this was raised: \n",
    "\n",
    "**```Switching to codon alignment! amino-acid sequence similarity: 0.91 >= 0.90```**\n",
    " \n",
    "In the results folder, both the amino acid and the nucleotide alignments will be reported. The codon-based alignment is called `\"*.used_alg.fa\"`, as this is the alignment actually used to build the reported tree. \n"
   ]
  },
  {
   "cell_type": "code",
   "execution_count": 17,
   "metadata": {
    "collapsed": false
   },
   "outputs": [
    {
     "name": "stdout",
     "output_type": "stream",
     "text": [
      ">Phy00535AU_PYGAD\n",
      "------------------------------------------------AAQTPA-SSQPAGLFSFSTPGAAA-QPASFSFGTPATAA-AAPAANVFPLGANAPKLNFGGSAATQATGITGGFGFGSSVPTSVPSSQAAAPSGFVFGCAGTTTTTT---TTSAQSGTTGTFTFSSGTATQAGTPSFNIGAAA---PQAAPTGLTFGTAPAAA-ATTAATLGAATQS-TTPFCLGGQSA-------ATLTTSTSQGPTLSFGAKLGGRNTAPAAPPAAATTTTSILGSAGPTLFASIASSSAPTSA-TTTGLSLGAP---STGTASLGTLGFGLKVPGTTAAAT-STATSTT--SASGFALNLKPLTTTGAIGAGTSTAAITTATTA-SAPPVMTYAQLESLINKWSLELEDQEKHFLHQATQVNAWDRTLIENGEKITSLHREVEKVKLDQKRLDQELDFILSQQKELEDLLTPLEESVKEQSGTIYLQHADEERERT---------------------------------------------------------------------------------------------\n"
     ]
    }
   ],
   "source": [
    "%%bash\n",
    "head -n2 mixed_types/clustalo_default-none-none-fasttree_full/NUP62.aa.fa.final_tree.fa"
   ]
  },
  {
   "cell_type": "code",
   "execution_count": 18,
   "metadata": {
    "collapsed": false
   },
   "outputs": [
    {
     "name": "stdout",
     "output_type": "stream",
     "text": [
      ">Phy00535AU_PYGAD\n",
      "------------------------------------------------------------------------------------------------------------------------------------------------GCGGCCCAGACGCCTGCC---AGCAGCCAGCCCGCCGGGCTCTTCTCCTTCAGCACGCCGGGCGCTGCCGCG---CAGCCTGCCAGCTTCAGCTTCGGGACGCCGGCCACGGCCGCC---GCGGCTCCGGCAGCAAACGTGTTCCCGCTGGGGGCAAATGCACCAAAATTAAACTTTGGAGGCAGCGCTGCAACTCAAGCTACTGGAATCACAGGGGGCTTTGGATTTGGTAGCTCTGTACCGACCAGCGTGCCCTCAAGTCAAGCAGCAGCCCCTTCTGGCTTTGTGTTTGGATGTGCTGGCACCACCACCACCACCACC---------ACCACCTCCGCTCAGTCTGGGACAACTGGAACGTTTACTTTCTCCAGTGGTACCGCAACTCAGGCCGGAACGCCCAGCTTCAACATTGGCGCTGCAGCT---------CCGCAGGCAGCGCCCACCGGGTTGACCTTTGGAACAGCACCTGCAGCTGCT---GCCACCACTGCTGCCACCTTAGGGGCCGCAACCCAGTCG---ACAACCCCCTTCTGCCTTGGGGGGCAGTCTGCC---------------------GCAACGCTGACCACTAGTACCAGCCAGGGACCCACTCTGTCCTTTGGAGCCAAACTTGGAGGTAGGAACACCGCACCCGCCGCTCCCCCGGCTGCCGCTACCACCACAACCTCCATTCTTGGTTCAGCGGGGCCTACGTTGTTTGCATCTATAGCGAGTTCTTCAGCACCGACGTCGGCT---ACCACCACGGGCCTCTCACTTGGTGCCCCT---------TCCACTGGGACAGCAAGTCTTGGAACGCTTGGGTTTGGATTAAAAGTTCCTGGAACAACAGCGGCTGCAACA---AGCACTGCCACTAGCACTACT------TCTGCTTCTGGCTTTGCTTTGAATCTTAAGCCATTAACTACGACTGGTGCCATTGGAGCTGGGACTTCTACAGCTGCCATAACCACAGCAACCACAGCC---AGTGCACCTCCAGTGATGACGTATGCCCAGCTGGAGAGTTTGATAAACAAGTGGAGTCTGGAACTGGAAGACCAAGAGAAACACTTTCTCCATCAAGCTACGCAAGTTAATGCCTGGGATCGGACGCTGATAGAGAATGGAGAGAAGATTACTTCATTACACAGAGAAGTAGAGAAAGTGAAGCTTGATCAGAAGAGACTGGATCAGGAGCTGGACTTCATTCTGTCACAGCAGAAAGAGCTTGAAGACTTGTTGACCCCTCTGGAGGAGTCTGTGAAGGAGCAGAGCGGAACTATCTACTTGCAGCATGCAGATGAAGAACGGGAGAGGACG---------------------------------------------------------------------------------------------------------------------------------------------------------------------------------------------------------------------------------------------------------------------------------------\n"
     ]
    }
   ],
   "source": [
    "%%bash\n",
    "head -n2 mixed_types/clustalo_default-none-none-fasttree_full/NUP62.aa.fa.final_tree.used_alg.fa"
   ]
  }
 ],
 "metadata": {
  "kernelspec": {
   "display_name": "Python 2",
   "language": "python",
   "name": "python2"
  },
  "language_info": {
   "codemirror_mode": {
    "name": "ipython",
    "version": 2
   },
   "file_extension": ".py",
   "mimetype": "text/x-python",
   "name": "python",
   "nbconvert_exporter": "python",
   "pygments_lexer": "ipython2",
   "version": "2.7.11"
  }
 },
 "nbformat": 4,
 "nbformat_minor": 0
}
